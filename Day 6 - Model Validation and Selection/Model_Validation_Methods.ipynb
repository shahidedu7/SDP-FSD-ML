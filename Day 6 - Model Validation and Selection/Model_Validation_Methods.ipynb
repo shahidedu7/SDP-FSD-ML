{
  "cells": [
    {
      "cell_type": "markdown",
      "metadata": {
        "id": "q5JV2zNAPmEv"
      },
      "source": [
        "# Model Validation Methods"
      ]
    },
    {
      "cell_type": "markdown",
      "metadata": {
        "id": "MY74L5RCPmEz"
      },
      "source": [
        "#### 1.Evaluate using a train and a test set"
      ]
    },
    {
      "cell_type": "code",
      "execution_count": 12,
      "metadata": {
        "id": "Xq2pYpkHPmE0"
      },
      "outputs": [],
      "source": [
        "# Evaluate using a train and a test set\n",
        "from pandas import read_csv\n",
        "\n",
        "from sklearn.model_selection import train_test_split\n",
        "from sklearn.linear_model import LogisticRegression\n",
        "filename = '/content/sample_data/pima-indians-diabetes-data.csv'\n",
        "names = ['preg', 'plas', 'pres', 'skin', 'test', 'mass', 'pedi', 'age', 'class']\n",
        "dataframe = read_csv(filename, names=names)\n",
        "array = dataframe.values\n",
        "X = array[:,0:8]\n",
        "Y = array[:,8]\n",
        "test_size = 0.33\n",
        "seed = 7\n",
        "X_train, X_test, Y_train, Y_test = train_test_split(X, Y, test_size=test_size,\n",
        "random_state=seed)\n",
        "model = LogisticRegression(max_iter = 300)\n",
        "model.fit(X_train, Y_train)\n",
        "result = model.score(X_test, Y_test)\n"
      ]
    },
    {
      "cell_type": "code",
      "execution_count": 13,
      "metadata": {
        "id": "kIR98BNpPmE2",
        "colab": {
          "base_uri": "https://localhost:8080/"
        },
        "outputId": "0a43a6c8-097d-4ac0-a373-c03cc70d9585"
      },
      "outputs": [
        {
          "output_type": "execute_result",
          "data": {
            "text/plain": [
              "78.74015748031496"
            ]
          },
          "metadata": {},
          "execution_count": 13
        }
      ],
      "source": [
        "result*100.0"
      ]
    },
    {
      "cell_type": "markdown",
      "metadata": {
        "id": "c_lZEN87PmE3"
      },
      "source": [
        "#### 2.Evaluate using Cross Validation"
      ]
    },
    {
      "cell_type": "code",
      "execution_count": 14,
      "metadata": {
        "id": "oqu0ECVwPmE3"
      },
      "outputs": [],
      "source": [
        "# Evaluate using Cross Validation\n",
        "from pandas import read_csv\n",
        "from sklearn.model_selection import KFold\n",
        "from sklearn.model_selection import cross_val_score\n",
        "from sklearn.linear_model import LogisticRegression\n",
        "filename = '/content/sample_data/pima-indians-diabetes-data.csv'\n",
        "names = ['preg', 'plas', 'pres', 'skin', 'test', 'mass', 'pedi', 'age', 'class']\n",
        "dataframe = read_csv(filename, names=names)\n",
        "array = dataframe.values\n",
        "X = array[:,0:8]\n",
        "Y = array[:,8]\n",
        "num_folds = 10\n",
        "seed = 7\n",
        "kfold = KFold(n_splits=num_folds, shuffle=True, random_state=seed)\n",
        "model = LogisticRegression(max_iter=400)\n",
        "results = cross_val_score(model, X, Y, cv=kfold)\n"
      ]
    },
    {
      "cell_type": "code",
      "execution_count": 15,
      "metadata": {
        "id": "MnLBR8SuPmE4",
        "colab": {
          "base_uri": "https://localhost:8080/"
        },
        "outputId": "c87d054e-1d9e-4a3a-f437-25041929697f"
      },
      "outputs": [
        {
          "output_type": "execute_result",
          "data": {
            "text/plain": [
              "np.float64(77.21633629528367)"
            ]
          },
          "metadata": {},
          "execution_count": 15
        }
      ],
      "source": [
        "results.mean()*100.0"
      ]
    },
    {
      "cell_type": "code",
      "execution_count": 10,
      "metadata": {
        "id": "_pTwoMzFPmE5",
        "colab": {
          "base_uri": "https://localhost:8080/"
        },
        "outputId": "8a220b5e-bb4f-42a1-f4a6-fa647f7e9f8b"
      },
      "outputs": [
        {
          "output_type": "execute_result",
          "data": {
            "text/plain": [
              "np.float64(4.96837651757489)"
            ]
          },
          "metadata": {},
          "execution_count": 10
        }
      ],
      "source": [
        "results.std()*100.0"
      ]
    },
    {
      "cell_type": "markdown",
      "metadata": {
        "id": "xOGChURdPmE5"
      },
      "source": [
        "#### 3.Evaluate using Leave One Out Cross Validation"
      ]
    },
    {
      "cell_type": "code",
      "execution_count": 11,
      "metadata": {
        "id": "0aRplItJPmE6"
      },
      "outputs": [],
      "source": [
        "# Evaluate using Leave One Out Cross Validation\n",
        "from pandas import read_csv\n",
        "from sklearn.model_selection import LeaveOneOut\n",
        "from sklearn.model_selection import cross_val_score\n",
        "from sklearn.linear_model import LogisticRegression\n",
        "filename = '/content/sample_data/pima-indians-diabetes-data.csv'\n",
        "names = ['preg', 'plas', 'pres', 'skin', 'test', 'mass', 'pedi', 'age', 'class']\n",
        "dataframe = read_csv(filename, names=names)\n",
        "array = dataframe.values\n",
        "X = array[:,0:8]\n",
        "Y = array[:,8]\n",
        "loocv = LeaveOneOut()\n",
        "model = LogisticRegression(max_iter=300)\n",
        "results = cross_val_score(model, X, Y, cv=loocv)\n"
      ]
    },
    {
      "cell_type": "code",
      "execution_count": 16,
      "metadata": {
        "id": "T0FfSaf1PmE6",
        "colab": {
          "base_uri": "https://localhost:8080/"
        },
        "outputId": "97472569-d7b0-40a9-c629-0c5314bd2481"
      },
      "outputs": [
        {
          "output_type": "execute_result",
          "data": {
            "text/plain": [
              "np.float64(77.21633629528367)"
            ]
          },
          "metadata": {},
          "execution_count": 16
        }
      ],
      "source": [
        "results.mean()*100.0"
      ]
    },
    {
      "cell_type": "code",
      "execution_count": 17,
      "metadata": {
        "id": "kRuupTwPPmE6",
        "colab": {
          "base_uri": "https://localhost:8080/"
        },
        "outputId": "20b4c5f3-7d31-4cce-f3b7-a7208c326641"
      },
      "outputs": [
        {
          "output_type": "execute_result",
          "data": {
            "text/plain": [
              "np.float64(4.96837651757489)"
            ]
          },
          "metadata": {},
          "execution_count": 17
        }
      ],
      "source": [
        "results.std()*100.0"
      ]
    },
    {
      "cell_type": "markdown",
      "source": [
        "### Measuring Model Accuracies"
      ],
      "metadata": {
        "id": "lXNkPwOsXZyx"
      }
    },
    {
      "cell_type": "markdown",
      "source": [
        "#### 1. Regression Model"
      ],
      "metadata": {
        "id": "0F_6P0WAXe8K"
      }
    },
    {
      "cell_type": "code",
      "source": [
        "import pandas as pd\n",
        "import sklearn\n",
        "from sklearn.linear_model import LinearRegression\n",
        "\n",
        "df = pd.read_csv('/content/sample_data/NewspaperData.csv')\n",
        "X = df[[\"daily\"]]\n",
        "y = df[\"sunday\"]\n",
        "model = LinearRegression()\n",
        "\n",
        "model.fit(X,y)\n",
        "y_pred = model.predict(X)\n",
        "# R^2 (coefficient of determination of the prediction)\n",
        "model.score(X,y)\n"
      ],
      "metadata": {
        "colab": {
          "base_uri": "https://localhost:8080/"
        },
        "id": "Kt2W8ra_XlpY",
        "outputId": "04131974-c451-4ffe-d637-539be2876a54"
      },
      "execution_count": 23,
      "outputs": [
        {
          "output_type": "execute_result",
          "data": {
            "text/plain": [
              "0.9180596895873295"
            ]
          },
          "metadata": {},
          "execution_count": 23
        }
      ]
    },
    {
      "cell_type": "code",
      "source": [
        "from sklearn.metrics import mean_absolute_error\n",
        "mae = mean_absolute_error(y, y_pred)\n",
        "mae\n"
      ],
      "metadata": {
        "colab": {
          "base_uri": "https://localhost:8080/"
        },
        "id": "PD2XEKiQYaYo",
        "outputId": "0692457a-db6e-458c-f490-d484e41d12aa"
      },
      "execution_count": 24,
      "outputs": [
        {
          "output_type": "execute_result",
          "data": {
            "text/plain": [
              "80.1327444999346"
            ]
          },
          "metadata": {},
          "execution_count": 24
        }
      ]
    },
    {
      "cell_type": "code",
      "source": [
        "from sklearn.metrics import mean_squared_error\n",
        "mse = mean_squared_error(y, y_pred)\n",
        "mse\n"
      ],
      "metadata": {
        "colab": {
          "base_uri": "https://localhost:8080/"
        },
        "id": "kW2k5CHuYbqx",
        "outputId": "54254562-d8f5-4723-9837-d731c37c052b"
      },
      "execution_count": 25,
      "outputs": [
        {
          "output_type": "execute_result",
          "data": {
            "text/plain": [
              "11268.6920722415"
            ]
          },
          "metadata": {},
          "execution_count": 25
        }
      ]
    },
    {
      "cell_type": "code",
      "source": [
        "from sklearn.metrics import root_mean_squared_error\n",
        "rmse = root_mean_squared_error(y, y_pred)\n",
        "rmse\n"
      ],
      "metadata": {
        "colab": {
          "base_uri": "https://localhost:8080/"
        },
        "id": "JKGw4Cl-Ybyg",
        "outputId": "df8878cc-bd51-4b6b-b89b-69191c48545a"
      },
      "execution_count": 26,
      "outputs": [
        {
          "output_type": "execute_result",
          "data": {
            "text/plain": [
              "106.15409588066538"
            ]
          },
          "metadata": {},
          "execution_count": 26
        }
      ]
    },
    {
      "cell_type": "code",
      "source": [
        "from sklearn.metrics import r2_score\n",
        "r2 = r2_score(y, y_pred)\n",
        "r2"
      ],
      "metadata": {
        "colab": {
          "base_uri": "https://localhost:8080/"
        },
        "id": "aDUEZ3okYb5_",
        "outputId": "0bb7f03d-6695-4680-ea2d-708d4d0caefd"
      },
      "execution_count": 27,
      "outputs": [
        {
          "output_type": "execute_result",
          "data": {
            "text/plain": [
              "0.9180596895873295"
            ]
          },
          "metadata": {},
          "execution_count": 27
        }
      ]
    },
    {
      "cell_type": "code",
      "source": [
        "from sklearn.linear_model import Ridge\n",
        "ridge = Ridge(alpha = 0.1)\n",
        "ridge.fit(X,y)\n",
        "ridge_predict = ridge.predict(X)\n",
        "print('Ridge score: ',ridge.score(X,y))"
      ],
      "metadata": {
        "colab": {
          "base_uri": "https://localhost:8080/"
        },
        "id": "cnwV21uOeEgU",
        "outputId": "475d32b2-bbb8-4998-f628-7727b7789685"
      },
      "execution_count": 30,
      "outputs": [
        {
          "output_type": "stream",
          "name": "stdout",
          "text": [
            "Ridge score:  0.9180596895873279\n"
          ]
        }
      ]
    },
    {
      "cell_type": "markdown",
      "source": [
        "#### 2. Classification Model"
      ],
      "metadata": {
        "id": "kAvuc3R6Zi9g"
      }
    },
    {
      "cell_type": "code",
      "source": [
        "# Confusion matrix with random forest\n",
        "from sklearn.metrics import accuracy_score, classification_report, confusion_matrix\n",
        "from sklearn.ensemble import RandomForestClassifier\n",
        "filename = '/content/sample_data/pima-indians-diabetes-data.csv'\n",
        "names = ['preg', 'plas', 'pres', 'skin', 'test', 'mass', 'pedi', 'age', 'class']\n",
        "df = pd.read_csv(filename, names=names)\n",
        "array = df.values\n",
        "X = array[:, 0:8]\n",
        "y = array[:, 8]\n",
        "x_train,x_test,y_train,y_test = train_test_split(X,y,test_size = 0.3,random_state = 1)\n",
        "rf = RandomForestClassifier(random_state = 4)\n",
        "rf.fit(x_train,y_train)\n",
        "y_pred = rf.predict(x_test)\n",
        "cm = confusion_matrix(y_test,y_pred)\n",
        "print('Accuracy: ',accuracy_score(y_test,y_pred))\n",
        "print('Confusion matrix: \\n',cm)\n",
        "print('Classification report: \\n',classification_report(y_test,y_pred))"
      ],
      "metadata": {
        "colab": {
          "base_uri": "https://localhost:8080/"
        },
        "id": "lFeeB-w1ZiaB",
        "outputId": "bde54c61-1ec8-426b-ea52-ca3fc384483c"
      },
      "execution_count": 33,
      "outputs": [
        {
          "output_type": "stream",
          "name": "stdout",
          "text": [
            "Accuracy:  0.7619047619047619\n",
            "Confusion matrix: \n",
            " [[128  18]\n",
            " [ 37  48]]\n",
            "Classification report: \n",
            "               precision    recall  f1-score   support\n",
            "\n",
            "         0.0       0.78      0.88      0.82       146\n",
            "         1.0       0.73      0.56      0.64        85\n",
            "\n",
            "    accuracy                           0.76       231\n",
            "   macro avg       0.75      0.72      0.73       231\n",
            "weighted avg       0.76      0.76      0.75       231\n",
            "\n"
          ]
        }
      ]
    },
    {
      "cell_type": "code",
      "source": [
        "y_test.shape"
      ],
      "metadata": {
        "colab": {
          "base_uri": "https://localhost:8080/"
        },
        "id": "j4eGKSQIg4Yr",
        "outputId": "ddcda745-cefd-4b43-9006-1d906552476d"
      },
      "execution_count": 36,
      "outputs": [
        {
          "output_type": "execute_result",
          "data": {
            "text/plain": [
              "(231,)"
            ]
          },
          "metadata": {},
          "execution_count": 36
        }
      ]
    },
    {
      "cell_type": "markdown",
      "source": [
        "# Hyperparameter Tuning"
      ],
      "metadata": {
        "id": "6k0rxfGEmj-Z"
      }
    },
    {
      "cell_type": "code",
      "source": [
        "import pandas as pd\n",
        "import numpy as np\n",
        "from sklearn.neighbors import KNeighborsClassifier\n",
        "\n",
        "filename = '/content/sample_data/pima-indians-diabetes-data.csv'\n",
        "names = ['preg', 'plas', 'pres', 'skin', 'test', 'mass', 'pedi', 'age', 'class']\n",
        "df = pd.read_csv(filename, names=names)\n",
        "array = df.values\n",
        "X = array[:, 0:8]\n",
        "y = array[:, 8]"
      ],
      "metadata": {
        "id": "Ulh2VQqDnUnR"
      },
      "execution_count": 39,
      "outputs": []
    },
    {
      "cell_type": "markdown",
      "source": [
        "### One Hyperparameter Tuning - KNN"
      ],
      "metadata": {
        "id": "DPp06NvUpeZx"
      }
    },
    {
      "cell_type": "code",
      "execution_count": 19,
      "metadata": {
        "id": "7H7vz0KXPmE7",
        "colab": {
          "base_uri": "https://localhost:8080/"
        },
        "outputId": "251fe587-d916-4d3e-c764-60d5dc4bf723"
      },
      "outputs": [
        {
          "output_type": "stream",
          "name": "stdout",
          "text": [
            "Tuned hyperparameter k: {'n_neighbors': np.int64(8)}\n",
            "Best score: 0.7552083333333334\n"
          ]
        }
      ],
      "source": [
        "# grid search cross validation with 1 hyperparameter\n",
        "from sklearn.model_selection import GridSearchCV\n",
        "grid = {'n_neighbors': np.arange(1,50)}\n",
        "knn = KNeighborsClassifier()\n",
        "knn_cv = GridSearchCV(knn, grid, cv=3) # GridSearchCV\n",
        "knn_cv.fit(X,y)# Fit\n",
        "\n",
        "# Print hyperparameter\n",
        "print(\"Tuned hyperparameter k: {}\".format(knn_cv.best_params_))\n",
        "print(\"Best score: {}\".format(knn_cv.best_score_))"
      ]
    },
    {
      "cell_type": "markdown",
      "source": [
        "### Multiple Hyperparameters Tuning - Decision Trees"
      ],
      "metadata": {
        "id": "aC1_IkaCpw8Y"
      }
    },
    {
      "cell_type": "code",
      "source": [
        "from sklearn.model_selection import GridSearchCV\n",
        "from sklearn.tree import DecisionTreeClassifier\n",
        "from sklearn.metrics import accuracy_score\n",
        "\n",
        "# Define the parameter grid\n",
        "param_grid = {\n",
        "    'criterion': ['gini', 'entropy'],\n",
        "    'max_depth': [None, 5, 10],\n",
        "    'min_samples_split': [2, 5, 10],\n",
        "    'min_samples_leaf': [1, 3, 5]\n",
        "}\n",
        "\n",
        "# Instantiate the decision tree\n",
        "dtree = DecisionTreeClassifier(random_state=42)\n",
        "\n",
        "# Set up GridSearchCV\n",
        "grid_search = GridSearchCV(dtree, param_grid, cv=3)\n",
        "\n",
        "# Fit the model\n",
        "grid_search.fit(X, y)\n",
        "\n",
        "# Retrieve the best parameters\n",
        "best_params = grid_search.best_params_\n",
        "print(\"Best parameters:\", best_params)\n",
        "\n",
        "# Evaluate the model\n",
        "best_dtree = grid_search.best_estimator_\n",
        "y_pred = best_dtree.predict(X)\n",
        "accuracy = accuracy_score(y, y_pred)\n",
        "print(\"Accuracy:\", accuracy)"
      ],
      "metadata": {
        "colab": {
          "base_uri": "https://localhost:8080/"
        },
        "id": "B6dZMjXSn73y",
        "outputId": "43f58d2f-71f4-4537-a581-ccda9219aa4f"
      },
      "execution_count": 40,
      "outputs": [
        {
          "output_type": "stream",
          "name": "stdout",
          "text": [
            "Best parameters: {'criterion': 'gini', 'max_depth': 5, 'min_samples_leaf': 3, 'min_samples_split': 10}\n",
            "Accuracy: 0.8294270833333334\n"
          ]
        }
      ]
    },
    {
      "cell_type": "markdown",
      "source": [
        "## Save Model"
      ],
      "metadata": {
        "id": "JXsef2Awpj3Y"
      }
    },
    {
      "cell_type": "code",
      "source": [
        "import pickle\n",
        "\n",
        "model = DecisionTreeClassifier(criterion='gini', max_depth=5, min_samples_leaf=3, min_samples_split=10)\n",
        "model.fit(X,y)\n",
        "# Save the model to disk\n",
        "filename = 'model.pkl'\n",
        "pickle.dump(model, open(filename, 'wb'))"
      ],
      "metadata": {
        "id": "qRt6yNr-Qnj6"
      },
      "execution_count": 41,
      "outputs": []
    },
    {
      "cell_type": "code",
      "source": [
        "# Load the model from disk\n",
        "loaded_model = pickle.load(open(filename, 'rb'))\n",
        "\n",
        "# Use the loaded model to make predictions\n",
        "predictions = loaded_model.predict(X)"
      ],
      "metadata": {
        "id": "AzAjrniGqCpI"
      },
      "execution_count": 42,
      "outputs": []
    },
    {
      "cell_type": "code",
      "source": [
        "predictions.shape"
      ],
      "metadata": {
        "colab": {
          "base_uri": "https://localhost:8080/"
        },
        "id": "UdelJxDyqKzS",
        "outputId": "1b8f3548-0a8a-46f9-bc46-7e3831341b03"
      },
      "execution_count": 44,
      "outputs": [
        {
          "output_type": "execute_result",
          "data": {
            "text/plain": [
              "(768,)"
            ]
          },
          "metadata": {},
          "execution_count": 44
        }
      ]
    },
    {
      "cell_type": "code",
      "source": [],
      "metadata": {
        "id": "7mM2GrPErDD1"
      },
      "execution_count": null,
      "outputs": []
    }
  ],
  "metadata": {
    "kernelspec": {
      "display_name": "Python 3",
      "language": "python",
      "name": "python3"
    },
    "language_info": {
      "codemirror_mode": {
        "name": "ipython",
        "version": 3
      },
      "file_extension": ".py",
      "mimetype": "text/x-python",
      "name": "python",
      "nbconvert_exporter": "python",
      "pygments_lexer": "ipython3",
      "version": "3.7.4"
    },
    "colab": {
      "provenance": []
    }
  },
  "nbformat": 4,
  "nbformat_minor": 0
}